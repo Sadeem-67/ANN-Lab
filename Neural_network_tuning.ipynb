{
  "cells": [
    {
      "cell_type": "markdown",
      "metadata": {
        "id": "xhCO8J3Hlee3"
      },
      "source": [
        "# Neural network Tuning"
      ]
    },
    {
      "cell_type": "code",
      "execution_count": 60,
      "metadata": {
        "id": "nmlnz5kUlefE"
      },
      "outputs": [],
      "source": [
        "# Importing necesary packages\n",
        "import numpy\n",
        "import pandas as pd\n",
        "from sklearn.model_selection import GridSearchCV\n",
        "from keras.models import Sequential\n",
        "from keras.layers import Dense\n",
        "import warnings\n",
        "warnings.filterwarnings('ignore')\n",
        "from keras.wrappers.scikit_learn import KerasClassifier"
      ]
    },
    {
      "cell_type": "markdown",
      "metadata": {
        "id": "vchX_bqWlefO"
      },
      "source": [
        "# part 1 - Tuning batch and epoch"
      ]
    },
    {
      "cell_type": "code",
      "execution_count": 61,
      "metadata": {
        "id": "1GcbslWelefQ"
      },
      "outputs": [],
      "source": [
        "# load the dataset for India diabetes\n",
        "data = pd.read_csv('diabetes.csv')"
      ]
    },
    {
      "cell_type": "code",
      "execution_count": 62,
      "metadata": {
        "colab": {
          "base_uri": "https://localhost:8080/",
          "height": 226
        },
        "id": "4ycg7I8DlefT",
        "outputId": "6b6a8ce8-77dc-4240-ce85-e3e6a69b87fd"
      },
      "outputs": [
        {
          "output_type": "execute_result",
          "data": {
            "text/plain": [
              "   Pregnancies  Glucose  BloodPressure  SkinThickness  Insulin   BMI  \\\n",
              "0            6      148             72             35        0  33.6   \n",
              "1            1       85             66             29        0  26.6   \n",
              "2            8      183             64              0        0  23.3   \n",
              "3            1       89             66             23       94  28.1   \n",
              "4            0      137             40             35      168  43.1   \n",
              "\n",
              "   DiabetesPedigreeFunction  Age  Outcome  \n",
              "0                     0.627   50        1  \n",
              "1                     0.351   31        0  \n",
              "2                     0.672   32        1  \n",
              "3                     0.167   21        0  \n",
              "4                     2.288   33        1  "
            ],
            "text/html": [
              "\n",
              "  <div id=\"df-ee1df72f-ecf2-4a75-95d9-b3d376f0fc5d\" class=\"colab-df-container\">\n",
              "    <div>\n",
              "<style scoped>\n",
              "    .dataframe tbody tr th:only-of-type {\n",
              "        vertical-align: middle;\n",
              "    }\n",
              "\n",
              "    .dataframe tbody tr th {\n",
              "        vertical-align: top;\n",
              "    }\n",
              "\n",
              "    .dataframe thead th {\n",
              "        text-align: right;\n",
              "    }\n",
              "</style>\n",
              "<table border=\"1\" class=\"dataframe\">\n",
              "  <thead>\n",
              "    <tr style=\"text-align: right;\">\n",
              "      <th></th>\n",
              "      <th>Pregnancies</th>\n",
              "      <th>Glucose</th>\n",
              "      <th>BloodPressure</th>\n",
              "      <th>SkinThickness</th>\n",
              "      <th>Insulin</th>\n",
              "      <th>BMI</th>\n",
              "      <th>DiabetesPedigreeFunction</th>\n",
              "      <th>Age</th>\n",
              "      <th>Outcome</th>\n",
              "    </tr>\n",
              "  </thead>\n",
              "  <tbody>\n",
              "    <tr>\n",
              "      <th>0</th>\n",
              "      <td>6</td>\n",
              "      <td>148</td>\n",
              "      <td>72</td>\n",
              "      <td>35</td>\n",
              "      <td>0</td>\n",
              "      <td>33.6</td>\n",
              "      <td>0.627</td>\n",
              "      <td>50</td>\n",
              "      <td>1</td>\n",
              "    </tr>\n",
              "    <tr>\n",
              "      <th>1</th>\n",
              "      <td>1</td>\n",
              "      <td>85</td>\n",
              "      <td>66</td>\n",
              "      <td>29</td>\n",
              "      <td>0</td>\n",
              "      <td>26.6</td>\n",
              "      <td>0.351</td>\n",
              "      <td>31</td>\n",
              "      <td>0</td>\n",
              "    </tr>\n",
              "    <tr>\n",
              "      <th>2</th>\n",
              "      <td>8</td>\n",
              "      <td>183</td>\n",
              "      <td>64</td>\n",
              "      <td>0</td>\n",
              "      <td>0</td>\n",
              "      <td>23.3</td>\n",
              "      <td>0.672</td>\n",
              "      <td>32</td>\n",
              "      <td>1</td>\n",
              "    </tr>\n",
              "    <tr>\n",
              "      <th>3</th>\n",
              "      <td>1</td>\n",
              "      <td>89</td>\n",
              "      <td>66</td>\n",
              "      <td>23</td>\n",
              "      <td>94</td>\n",
              "      <td>28.1</td>\n",
              "      <td>0.167</td>\n",
              "      <td>21</td>\n",
              "      <td>0</td>\n",
              "    </tr>\n",
              "    <tr>\n",
              "      <th>4</th>\n",
              "      <td>0</td>\n",
              "      <td>137</td>\n",
              "      <td>40</td>\n",
              "      <td>35</td>\n",
              "      <td>168</td>\n",
              "      <td>43.1</td>\n",
              "      <td>2.288</td>\n",
              "      <td>33</td>\n",
              "      <td>1</td>\n",
              "    </tr>\n",
              "  </tbody>\n",
              "</table>\n",
              "</div>\n",
              "    <div class=\"colab-df-buttons\">\n",
              "\n",
              "  <div class=\"colab-df-container\">\n",
              "    <button class=\"colab-df-convert\" onclick=\"convertToInteractive('df-ee1df72f-ecf2-4a75-95d9-b3d376f0fc5d')\"\n",
              "            title=\"Convert this dataframe to an interactive table.\"\n",
              "            style=\"display:none;\">\n",
              "\n",
              "  <svg xmlns=\"http://www.w3.org/2000/svg\" height=\"24px\" viewBox=\"0 -960 960 960\">\n",
              "    <path d=\"M120-120v-720h720v720H120Zm60-500h600v-160H180v160Zm220 220h160v-160H400v160Zm0 220h160v-160H400v160ZM180-400h160v-160H180v160Zm440 0h160v-160H620v160ZM180-180h160v-160H180v160Zm440 0h160v-160H620v160Z\"/>\n",
              "  </svg>\n",
              "    </button>\n",
              "\n",
              "  <style>\n",
              "    .colab-df-container {\n",
              "      display:flex;\n",
              "      gap: 12px;\n",
              "    }\n",
              "\n",
              "    .colab-df-convert {\n",
              "      background-color: #E8F0FE;\n",
              "      border: none;\n",
              "      border-radius: 50%;\n",
              "      cursor: pointer;\n",
              "      display: none;\n",
              "      fill: #1967D2;\n",
              "      height: 32px;\n",
              "      padding: 0 0 0 0;\n",
              "      width: 32px;\n",
              "    }\n",
              "\n",
              "    .colab-df-convert:hover {\n",
              "      background-color: #E2EBFA;\n",
              "      box-shadow: 0px 1px 2px rgba(60, 64, 67, 0.3), 0px 1px 3px 1px rgba(60, 64, 67, 0.15);\n",
              "      fill: #174EA6;\n",
              "    }\n",
              "\n",
              "    .colab-df-buttons div {\n",
              "      margin-bottom: 4px;\n",
              "    }\n",
              "\n",
              "    [theme=dark] .colab-df-convert {\n",
              "      background-color: #3B4455;\n",
              "      fill: #D2E3FC;\n",
              "    }\n",
              "\n",
              "    [theme=dark] .colab-df-convert:hover {\n",
              "      background-color: #434B5C;\n",
              "      box-shadow: 0px 1px 3px 1px rgba(0, 0, 0, 0.15);\n",
              "      filter: drop-shadow(0px 1px 2px rgba(0, 0, 0, 0.3));\n",
              "      fill: #FFFFFF;\n",
              "    }\n",
              "  </style>\n",
              "\n",
              "    <script>\n",
              "      const buttonEl =\n",
              "        document.querySelector('#df-ee1df72f-ecf2-4a75-95d9-b3d376f0fc5d button.colab-df-convert');\n",
              "      buttonEl.style.display =\n",
              "        google.colab.kernel.accessAllowed ? 'block' : 'none';\n",
              "\n",
              "      async function convertToInteractive(key) {\n",
              "        const element = document.querySelector('#df-ee1df72f-ecf2-4a75-95d9-b3d376f0fc5d');\n",
              "        const dataTable =\n",
              "          await google.colab.kernel.invokeFunction('convertToInteractive',\n",
              "                                                    [key], {});\n",
              "        if (!dataTable) return;\n",
              "\n",
              "        const docLinkHtml = 'Like what you see? Visit the ' +\n",
              "          '<a target=\"_blank\" href=https://colab.research.google.com/notebooks/data_table.ipynb>data table notebook</a>'\n",
              "          + ' to learn more about interactive tables.';\n",
              "        element.innerHTML = '';\n",
              "        dataTable['output_type'] = 'display_data';\n",
              "        await google.colab.output.renderOutput(dataTable, element);\n",
              "        const docLink = document.createElement('div');\n",
              "        docLink.innerHTML = docLinkHtml;\n",
              "        element.appendChild(docLink);\n",
              "      }\n",
              "    </script>\n",
              "  </div>\n",
              "\n",
              "\n",
              "<div id=\"df-e1878b94-8276-40e5-96cc-5ab0de895edb\">\n",
              "  <button class=\"colab-df-quickchart\" onclick=\"quickchart('df-e1878b94-8276-40e5-96cc-5ab0de895edb')\"\n",
              "            title=\"Suggest charts.\"\n",
              "            style=\"display:none;\">\n",
              "\n",
              "<svg xmlns=\"http://www.w3.org/2000/svg\" height=\"24px\"viewBox=\"0 0 24 24\"\n",
              "     width=\"24px\">\n",
              "    <g>\n",
              "        <path d=\"M19 3H5c-1.1 0-2 .9-2 2v14c0 1.1.9 2 2 2h14c1.1 0 2-.9 2-2V5c0-1.1-.9-2-2-2zM9 17H7v-7h2v7zm4 0h-2V7h2v10zm4 0h-2v-4h2v4z\"/>\n",
              "    </g>\n",
              "</svg>\n",
              "  </button>\n",
              "\n",
              "<style>\n",
              "  .colab-df-quickchart {\n",
              "      --bg-color: #E8F0FE;\n",
              "      --fill-color: #1967D2;\n",
              "      --hover-bg-color: #E2EBFA;\n",
              "      --hover-fill-color: #174EA6;\n",
              "      --disabled-fill-color: #AAA;\n",
              "      --disabled-bg-color: #DDD;\n",
              "  }\n",
              "\n",
              "  [theme=dark] .colab-df-quickchart {\n",
              "      --bg-color: #3B4455;\n",
              "      --fill-color: #D2E3FC;\n",
              "      --hover-bg-color: #434B5C;\n",
              "      --hover-fill-color: #FFFFFF;\n",
              "      --disabled-bg-color: #3B4455;\n",
              "      --disabled-fill-color: #666;\n",
              "  }\n",
              "\n",
              "  .colab-df-quickchart {\n",
              "    background-color: var(--bg-color);\n",
              "    border: none;\n",
              "    border-radius: 50%;\n",
              "    cursor: pointer;\n",
              "    display: none;\n",
              "    fill: var(--fill-color);\n",
              "    height: 32px;\n",
              "    padding: 0;\n",
              "    width: 32px;\n",
              "  }\n",
              "\n",
              "  .colab-df-quickchart:hover {\n",
              "    background-color: var(--hover-bg-color);\n",
              "    box-shadow: 0 1px 2px rgba(60, 64, 67, 0.3), 0 1px 3px 1px rgba(60, 64, 67, 0.15);\n",
              "    fill: var(--button-hover-fill-color);\n",
              "  }\n",
              "\n",
              "  .colab-df-quickchart-complete:disabled,\n",
              "  .colab-df-quickchart-complete:disabled:hover {\n",
              "    background-color: var(--disabled-bg-color);\n",
              "    fill: var(--disabled-fill-color);\n",
              "    box-shadow: none;\n",
              "  }\n",
              "\n",
              "  .colab-df-spinner {\n",
              "    border: 2px solid var(--fill-color);\n",
              "    border-color: transparent;\n",
              "    border-bottom-color: var(--fill-color);\n",
              "    animation:\n",
              "      spin 1s steps(1) infinite;\n",
              "  }\n",
              "\n",
              "  @keyframes spin {\n",
              "    0% {\n",
              "      border-color: transparent;\n",
              "      border-bottom-color: var(--fill-color);\n",
              "      border-left-color: var(--fill-color);\n",
              "    }\n",
              "    20% {\n",
              "      border-color: transparent;\n",
              "      border-left-color: var(--fill-color);\n",
              "      border-top-color: var(--fill-color);\n",
              "    }\n",
              "    30% {\n",
              "      border-color: transparent;\n",
              "      border-left-color: var(--fill-color);\n",
              "      border-top-color: var(--fill-color);\n",
              "      border-right-color: var(--fill-color);\n",
              "    }\n",
              "    40% {\n",
              "      border-color: transparent;\n",
              "      border-right-color: var(--fill-color);\n",
              "      border-top-color: var(--fill-color);\n",
              "    }\n",
              "    60% {\n",
              "      border-color: transparent;\n",
              "      border-right-color: var(--fill-color);\n",
              "    }\n",
              "    80% {\n",
              "      border-color: transparent;\n",
              "      border-right-color: var(--fill-color);\n",
              "      border-bottom-color: var(--fill-color);\n",
              "    }\n",
              "    90% {\n",
              "      border-color: transparent;\n",
              "      border-bottom-color: var(--fill-color);\n",
              "    }\n",
              "  }\n",
              "</style>\n",
              "\n",
              "  <script>\n",
              "    async function quickchart(key) {\n",
              "      const quickchartButtonEl =\n",
              "        document.querySelector('#' + key + ' button');\n",
              "      quickchartButtonEl.disabled = true;  // To prevent multiple clicks.\n",
              "      quickchartButtonEl.classList.add('colab-df-spinner');\n",
              "      try {\n",
              "        const charts = await google.colab.kernel.invokeFunction(\n",
              "            'suggestCharts', [key], {});\n",
              "      } catch (error) {\n",
              "        console.error('Error during call to suggestCharts:', error);\n",
              "      }\n",
              "      quickchartButtonEl.classList.remove('colab-df-spinner');\n",
              "      quickchartButtonEl.classList.add('colab-df-quickchart-complete');\n",
              "    }\n",
              "    (() => {\n",
              "      let quickchartButtonEl =\n",
              "        document.querySelector('#df-e1878b94-8276-40e5-96cc-5ab0de895edb button');\n",
              "      quickchartButtonEl.style.display =\n",
              "        google.colab.kernel.accessAllowed ? 'block' : 'none';\n",
              "    })();\n",
              "  </script>\n",
              "</div>\n",
              "    </div>\n",
              "  </div>\n"
            ]
          },
          "metadata": {},
          "execution_count": 62
        }
      ],
      "source": [
        "#viewing data\n",
        "data.head()"
      ]
    },
    {
      "cell_type": "code",
      "execution_count": 63,
      "metadata": {
        "id": "11g4NCjqlefW"
      },
      "outputs": [],
      "source": [
        "# split into predictors and response\n",
        "X = data.iloc[:,0:8] #predictors\n",
        "Y = data.iloc[:,8] #response"
      ]
    },
    {
      "cell_type": "code",
      "execution_count": 64,
      "metadata": {
        "id": "B5glp_WOlefY"
      },
      "outputs": [],
      "source": [
        "# Function to create model,for KerasClassifier\n",
        "def create_my_model():\n",
        "    #defining my model\n",
        "    mymodel = Sequential()\n",
        "    mymodel.add(Dense(12, input_dim=8, activation='relu'))\n",
        "    mymodel.add(Dense(1, activation='sigmoid'))\n",
        "\n",
        "    # Compile the model\n",
        "    mymodel.compile(loss='binary_crossentropy', optimizer='adam', metrics=['accuracy'])\n",
        "    return mymodel"
      ]
    },
    {
      "cell_type": "code",
      "execution_count": 65,
      "metadata": {
        "id": "Yw5OC77Plefb"
      },
      "outputs": [],
      "source": [
        "# create model\n",
        "model = KerasClassifier(build_fn=create_my_model)"
      ]
    },
    {
      "cell_type": "code",
      "execution_count": 66,
      "metadata": {
        "id": "yMQr8cZclefe"
      },
      "outputs": [],
      "source": [
        "# define the grid search parameters\n",
        "batchSize = [10, 20, 40, 60, 80, 100]\n",
        "epochs = [10, 30, 50]"
      ]
    },
    {
      "cell_type": "code",
      "execution_count": 67,
      "metadata": {
        "colab": {
          "base_uri": "https://localhost:8080/"
        },
        "id": "pXcXCFqLlefg",
        "outputId": "02321911-d697-4bc9-8ef1-97607cb23948"
      },
      "outputs": [
        {
          "output_type": "stream",
          "name": "stdout",
          "text": [
            "Epoch 1/50\n",
            "77/77 [==============================] - 1s 2ms/step - loss: 40.6426 - accuracy: 0.6510\n",
            "Epoch 2/50\n",
            "77/77 [==============================] - 0s 2ms/step - loss: 12.8224 - accuracy: 0.5898\n",
            "Epoch 3/50\n",
            "77/77 [==============================] - 0s 2ms/step - loss: 4.0916 - accuracy: 0.5117\n",
            "Epoch 4/50\n",
            "77/77 [==============================] - 0s 2ms/step - loss: 2.8192 - accuracy: 0.5417\n",
            "Epoch 5/50\n",
            "77/77 [==============================] - 0s 2ms/step - loss: 2.0244 - accuracy: 0.5482\n",
            "Epoch 6/50\n",
            "77/77 [==============================] - 0s 2ms/step - loss: 1.6068 - accuracy: 0.5872\n",
            "Epoch 7/50\n",
            "77/77 [==============================] - 0s 2ms/step - loss: 1.3577 - accuracy: 0.6042\n",
            "Epoch 8/50\n",
            "77/77 [==============================] - 0s 2ms/step - loss: 1.2150 - accuracy: 0.6289\n",
            "Epoch 9/50\n",
            "77/77 [==============================] - 0s 2ms/step - loss: 1.0842 - accuracy: 0.6068\n",
            "Epoch 10/50\n",
            "77/77 [==============================] - 0s 2ms/step - loss: 0.9639 - accuracy: 0.6289\n",
            "Epoch 11/50\n",
            "77/77 [==============================] - 0s 2ms/step - loss: 0.8882 - accuracy: 0.6380\n",
            "Epoch 12/50\n",
            "77/77 [==============================] - 0s 2ms/step - loss: 0.9069 - accuracy: 0.6406\n",
            "Epoch 13/50\n",
            "77/77 [==============================] - 0s 2ms/step - loss: 0.7845 - accuracy: 0.6667\n",
            "Epoch 14/50\n",
            "77/77 [==============================] - 0s 2ms/step - loss: 0.7856 - accuracy: 0.6471\n",
            "Epoch 15/50\n",
            "77/77 [==============================] - 0s 2ms/step - loss: 0.7545 - accuracy: 0.6680\n",
            "Epoch 16/50\n",
            "77/77 [==============================] - 0s 2ms/step - loss: 0.7423 - accuracy: 0.6549\n",
            "Epoch 17/50\n",
            "77/77 [==============================] - 0s 2ms/step - loss: 0.8147 - accuracy: 0.6393\n",
            "Epoch 18/50\n",
            "77/77 [==============================] - 0s 2ms/step - loss: 0.7181 - accuracy: 0.6458\n",
            "Epoch 19/50\n",
            "77/77 [==============================] - 0s 2ms/step - loss: 0.7038 - accuracy: 0.6706\n",
            "Epoch 20/50\n",
            "77/77 [==============================] - 0s 2ms/step - loss: 0.6675 - accuracy: 0.6940\n",
            "Epoch 21/50\n",
            "77/77 [==============================] - 0s 2ms/step - loss: 0.6876 - accuracy: 0.6693\n",
            "Epoch 22/50\n",
            "77/77 [==============================] - 0s 2ms/step - loss: 0.6828 - accuracy: 0.6562\n",
            "Epoch 23/50\n",
            "77/77 [==============================] - 0s 2ms/step - loss: 0.6531 - accuracy: 0.6810\n",
            "Epoch 24/50\n",
            "77/77 [==============================] - 0s 2ms/step - loss: 0.6718 - accuracy: 0.6810\n",
            "Epoch 25/50\n",
            "77/77 [==============================] - 0s 2ms/step - loss: 0.6540 - accuracy: 0.6849\n",
            "Epoch 26/50\n",
            "77/77 [==============================] - 0s 2ms/step - loss: 0.6878 - accuracy: 0.6732\n",
            "Epoch 27/50\n",
            "77/77 [==============================] - 0s 2ms/step - loss: 0.6456 - accuracy: 0.6979\n",
            "Epoch 28/50\n",
            "77/77 [==============================] - 0s 2ms/step - loss: 0.6587 - accuracy: 0.6940\n",
            "Epoch 29/50\n",
            "77/77 [==============================] - 0s 2ms/step - loss: 0.6439 - accuracy: 0.6836\n",
            "Epoch 30/50\n",
            "77/77 [==============================] - 0s 2ms/step - loss: 0.6676 - accuracy: 0.6536\n",
            "Epoch 31/50\n",
            "77/77 [==============================] - 0s 2ms/step - loss: 0.6368 - accuracy: 0.7057\n",
            "Epoch 32/50\n",
            "77/77 [==============================] - 0s 2ms/step - loss: 0.6417 - accuracy: 0.6875\n",
            "Epoch 33/50\n",
            "77/77 [==============================] - 0s 2ms/step - loss: 0.6397 - accuracy: 0.6758\n",
            "Epoch 34/50\n",
            "77/77 [==============================] - 0s 2ms/step - loss: 0.6119 - accuracy: 0.7057\n",
            "Epoch 35/50\n",
            "77/77 [==============================] - 0s 2ms/step - loss: 0.6301 - accuracy: 0.7057\n",
            "Epoch 36/50\n",
            "77/77 [==============================] - 0s 2ms/step - loss: 0.6408 - accuracy: 0.6927\n",
            "Epoch 37/50\n",
            "77/77 [==============================] - 0s 2ms/step - loss: 0.6345 - accuracy: 0.6888\n",
            "Epoch 38/50\n",
            "77/77 [==============================] - 0s 2ms/step - loss: 0.6585 - accuracy: 0.6758\n",
            "Epoch 39/50\n",
            "77/77 [==============================] - 0s 2ms/step - loss: 0.6048 - accuracy: 0.6953\n",
            "Epoch 40/50\n",
            "77/77 [==============================] - 0s 2ms/step - loss: 0.5976 - accuracy: 0.7031\n",
            "Epoch 41/50\n",
            "77/77 [==============================] - 0s 2ms/step - loss: 0.6158 - accuracy: 0.6966\n",
            "Epoch 42/50\n",
            "77/77 [==============================] - 0s 2ms/step - loss: 0.6142 - accuracy: 0.6966\n",
            "Epoch 43/50\n",
            "77/77 [==============================] - 0s 2ms/step - loss: 0.6439 - accuracy: 0.6784\n",
            "Epoch 44/50\n",
            "77/77 [==============================] - 0s 2ms/step - loss: 0.6020 - accuracy: 0.6979\n",
            "Epoch 45/50\n",
            "77/77 [==============================] - 0s 2ms/step - loss: 0.6067 - accuracy: 0.6992\n",
            "Epoch 46/50\n",
            "77/77 [==============================] - 0s 2ms/step - loss: 0.6275 - accuracy: 0.6914\n",
            "Epoch 47/50\n",
            "77/77 [==============================] - 0s 2ms/step - loss: 0.6147 - accuracy: 0.6992\n",
            "Epoch 48/50\n",
            "77/77 [==============================] - 0s 2ms/step - loss: 0.5860 - accuracy: 0.7057\n",
            "Epoch 49/50\n",
            "77/77 [==============================] - 0s 2ms/step - loss: 0.6158 - accuracy: 0.6914\n",
            "Epoch 50/50\n",
            "77/77 [==============================] - 0s 2ms/step - loss: 0.5872 - accuracy: 0.7174\n"
          ]
        }
      ],
      "source": [
        "parameter_grid = dict(batch_size=batchSize, epochs=epochs)\n",
        "\n",
        "\n",
        "mygrid = GridSearchCV(estimator=model, param_grid=parameter_grid, n_jobs=-1, cv=3)\n",
        "grid_result = mygrid.fit(X, Y)"
      ]
    },
    {
      "cell_type": "code",
      "execution_count": 68,
      "metadata": {
        "colab": {
          "base_uri": "https://localhost:8080/"
        },
        "id": "aj4pSwovlefi",
        "outputId": "9dee9e43-3dff-4e35-e0a5-9f8d411054f6"
      },
      "outputs": [
        {
          "output_type": "stream",
          "name": "stdout",
          "text": [
            "Best: 0.680990 using {'batch_size': 10, 'epochs': 50}\n"
          ]
        }
      ],
      "source": [
        "# summarize results\n",
        "print(\"Best: %f using %s\" % (grid_result.best_score_, grid_result.best_params_))"
      ]
    },
    {
      "cell_type": "markdown",
      "metadata": {
        "id": "lh7B0fEDlefj"
      },
      "source": [
        "# part 2- Optimizing Activation Function"
      ]
    },
    {
      "cell_type": "code",
      "execution_count": 69,
      "metadata": {
        "id": "s3acd512lefk"
      },
      "outputs": [],
      "source": [
        "# Function to create model\n",
        "def create_my_model(optimizer='adam'):\n",
        "    # create model\n",
        "    mymodel = Sequential()\n",
        "    mymodel.add(Dense(12, input_dim=8, activation='relu'))\n",
        "    mymodel.add(Dense(1, activation='sigmoid'))\n",
        "    # Compile model\n",
        "    mymodel.compile(loss='binary_crossentropy', optimizer=optimizer, metrics=['accuracy'])\n",
        "    return mymodel"
      ]
    },
    {
      "cell_type": "code",
      "execution_count": 70,
      "metadata": {
        "id": "UlAxlgvflefl"
      },
      "outputs": [],
      "source": [
        "# create model\n",
        "model = KerasClassifier(build_fn=create_my_model, epochs=50, batch_size=10)"
      ]
    },
    {
      "cell_type": "code",
      "execution_count": 71,
      "metadata": {
        "id": "baUvUymDlefm"
      },
      "outputs": [],
      "source": [
        "# define the grid search parameters\n",
        "optimizer = ['SGD','Adadelta', 'RMSprop', 'Adagrad','Adam']\n",
        "parameter_grid = dict(optimizer=optimizer)"
      ]
    },
    {
      "cell_type": "code",
      "execution_count": 72,
      "metadata": {
        "colab": {
          "base_uri": "https://localhost:8080/"
        },
        "id": "8jM8tsjjlefm",
        "outputId": "0714ce6c-4b42-46cf-9b9b-8ef1b210561f"
      },
      "outputs": [
        {
          "output_type": "stream",
          "name": "stdout",
          "text": [
            "Epoch 1/50\n",
            "77/77 [==============================] - 1s 2ms/step - loss: 32.3252 - accuracy: 0.3477\n",
            "Epoch 2/50\n",
            "77/77 [==============================] - 0s 2ms/step - loss: 6.1879 - accuracy: 0.4622\n",
            "Epoch 3/50\n",
            "77/77 [==============================] - 0s 2ms/step - loss: 2.7172 - accuracy: 0.5521\n",
            "Epoch 4/50\n",
            "77/77 [==============================] - 0s 2ms/step - loss: 2.2051 - accuracy: 0.5560\n",
            "Epoch 5/50\n",
            "77/77 [==============================] - 0s 2ms/step - loss: 1.7600 - accuracy: 0.5716\n",
            "Epoch 6/50\n",
            "77/77 [==============================] - 0s 2ms/step - loss: 1.3323 - accuracy: 0.5977\n",
            "Epoch 7/50\n",
            "77/77 [==============================] - 0s 2ms/step - loss: 1.0700 - accuracy: 0.6107\n",
            "Epoch 8/50\n",
            "77/77 [==============================] - 0s 2ms/step - loss: 0.8547 - accuracy: 0.6250\n",
            "Epoch 9/50\n",
            "77/77 [==============================] - 0s 2ms/step - loss: 0.7707 - accuracy: 0.6354\n",
            "Epoch 10/50\n",
            "77/77 [==============================] - 0s 2ms/step - loss: 0.7505 - accuracy: 0.6589\n",
            "Epoch 11/50\n",
            "77/77 [==============================] - 0s 2ms/step - loss: 0.7285 - accuracy: 0.6576\n",
            "Epoch 12/50\n",
            "77/77 [==============================] - 0s 2ms/step - loss: 0.7019 - accuracy: 0.6602\n",
            "Epoch 13/50\n",
            "77/77 [==============================] - 0s 2ms/step - loss: 0.6948 - accuracy: 0.6654\n",
            "Epoch 14/50\n",
            "77/77 [==============================] - 0s 2ms/step - loss: 0.6973 - accuracy: 0.6810\n",
            "Epoch 15/50\n",
            "77/77 [==============================] - 0s 2ms/step - loss: 0.6861 - accuracy: 0.6562\n",
            "Epoch 16/50\n",
            "77/77 [==============================] - 0s 2ms/step - loss: 0.6772 - accuracy: 0.6589\n",
            "Epoch 17/50\n",
            "77/77 [==============================] - 0s 2ms/step - loss: 0.6709 - accuracy: 0.6406\n",
            "Epoch 18/50\n",
            "77/77 [==============================] - 0s 2ms/step - loss: 0.6673 - accuracy: 0.6784\n",
            "Epoch 19/50\n",
            "77/77 [==============================] - 0s 2ms/step - loss: 0.6585 - accuracy: 0.6771\n",
            "Epoch 20/50\n",
            "77/77 [==============================] - 0s 2ms/step - loss: 0.6580 - accuracy: 0.6901\n",
            "Epoch 21/50\n",
            "77/77 [==============================] - 0s 2ms/step - loss: 0.6528 - accuracy: 0.6784\n",
            "Epoch 22/50\n",
            "77/77 [==============================] - 0s 2ms/step - loss: 0.6339 - accuracy: 0.6888\n",
            "Epoch 23/50\n",
            "77/77 [==============================] - 0s 2ms/step - loss: 0.6429 - accuracy: 0.6875\n",
            "Epoch 24/50\n",
            "77/77 [==============================] - 0s 2ms/step - loss: 0.6592 - accuracy: 0.6602\n",
            "Epoch 25/50\n",
            "77/77 [==============================] - 0s 2ms/step - loss: 0.6385 - accuracy: 0.6927\n",
            "Epoch 26/50\n",
            "77/77 [==============================] - 0s 2ms/step - loss: 0.6445 - accuracy: 0.6875\n",
            "Epoch 27/50\n",
            "77/77 [==============================] - 0s 2ms/step - loss: 0.6447 - accuracy: 0.6628\n",
            "Epoch 28/50\n",
            "77/77 [==============================] - 0s 2ms/step - loss: 0.6314 - accuracy: 0.6966\n",
            "Epoch 29/50\n",
            "77/77 [==============================] - 0s 2ms/step - loss: 0.6350 - accuracy: 0.6745\n",
            "Epoch 30/50\n",
            "77/77 [==============================] - 0s 2ms/step - loss: 0.6292 - accuracy: 0.6875\n",
            "Epoch 31/50\n",
            "77/77 [==============================] - 0s 2ms/step - loss: 0.6316 - accuracy: 0.6784\n",
            "Epoch 32/50\n",
            "77/77 [==============================] - 0s 2ms/step - loss: 0.6316 - accuracy: 0.6745\n",
            "Epoch 33/50\n",
            "77/77 [==============================] - 0s 2ms/step - loss: 0.6235 - accuracy: 0.6901\n",
            "Epoch 34/50\n",
            "77/77 [==============================] - 0s 2ms/step - loss: 0.6268 - accuracy: 0.6849\n",
            "Epoch 35/50\n",
            "77/77 [==============================] - 0s 2ms/step - loss: 0.6109 - accuracy: 0.6875\n",
            "Epoch 36/50\n",
            "77/77 [==============================] - 0s 2ms/step - loss: 0.6135 - accuracy: 0.6940\n",
            "Epoch 37/50\n",
            "77/77 [==============================] - 0s 2ms/step - loss: 0.6323 - accuracy: 0.6927\n",
            "Epoch 38/50\n",
            "77/77 [==============================] - 0s 2ms/step - loss: 0.6005 - accuracy: 0.6966\n",
            "Epoch 39/50\n",
            "77/77 [==============================] - 0s 2ms/step - loss: 0.6003 - accuracy: 0.6992\n",
            "Epoch 40/50\n",
            "77/77 [==============================] - 0s 2ms/step - loss: 0.6089 - accuracy: 0.6901\n",
            "Epoch 41/50\n",
            "77/77 [==============================] - 0s 2ms/step - loss: 0.5941 - accuracy: 0.6901\n",
            "Epoch 42/50\n",
            "77/77 [==============================] - 0s 2ms/step - loss: 0.6026 - accuracy: 0.6849\n",
            "Epoch 43/50\n",
            "77/77 [==============================] - 0s 2ms/step - loss: 0.6025 - accuracy: 0.6940\n",
            "Epoch 44/50\n",
            "77/77 [==============================] - 0s 2ms/step - loss: 0.5920 - accuracy: 0.7044\n",
            "Epoch 45/50\n",
            "77/77 [==============================] - 0s 2ms/step - loss: 0.5929 - accuracy: 0.7083\n",
            "Epoch 46/50\n",
            "77/77 [==============================] - 0s 2ms/step - loss: 0.5891 - accuracy: 0.7083\n",
            "Epoch 47/50\n",
            "77/77 [==============================] - 0s 2ms/step - loss: 0.6008 - accuracy: 0.6940\n",
            "Epoch 48/50\n",
            "77/77 [==============================] - 0s 2ms/step - loss: 0.5850 - accuracy: 0.7031\n",
            "Epoch 49/50\n",
            "77/77 [==============================] - 0s 2ms/step - loss: 0.5890 - accuracy: 0.7096\n",
            "Epoch 50/50\n",
            "77/77 [==============================] - 0s 2ms/step - loss: 0.5867 - accuracy: 0.6940\n"
          ]
        }
      ],
      "source": [
        "grid = GridSearchCV(estimator=model, param_grid=parameter_grid, n_jobs=-1, cv=3)\n",
        "grid_result = grid.fit(X, Y)"
      ]
    },
    {
      "cell_type": "code",
      "execution_count": 73,
      "metadata": {
        "colab": {
          "base_uri": "https://localhost:8080/"
        },
        "id": "ee4MmYy3lefn",
        "outputId": "7224bfbb-b959-41d8-f333-e07b94c8aa98"
      },
      "outputs": [
        {
          "output_type": "stream",
          "name": "stdout",
          "text": [
            "Best: 0.686198 using {'optimizer': 'RMSprop'}\n"
          ]
        }
      ],
      "source": [
        "# summarize results\n",
        "print(\"Best: %f using %s\" % (grid_result.best_score_, grid_result.best_params_))"
      ]
    },
    {
      "cell_type": "markdown",
      "metadata": {
        "id": "If1Oupd2lefo"
      },
      "source": [
        "# How can you improve accuracy of the model?"
      ]
    },
    {
      "cell_type": "code",
      "execution_count": 94,
      "metadata": {
        "id": "LDfpCHLGlefo"
      },
      "outputs": [],
      "source": [
        "def create_my_model(optimizer):\n",
        "    # create model\n",
        "    mymodel = Sequential()\n",
        "    mymodel.add(Dense(12, input_dim=8, activation='relu'))\n",
        "    mymodel.add(Dense(1, activation='sigmoid'))\n",
        "    # Compile model\n",
        "    mymodel.compile(loss='binary_crossentropy', optimizer=optimizer, metrics=['accuracy'])\n",
        "    return mymodel"
      ]
    },
    {
      "cell_type": "code",
      "source": [
        "optimizers = ['Adadelta', 'Adagrad', 'Adam', 'RMSprop', 'SGD']\n",
        "\n",
        "for i in optimizers:\n",
        "    model = create_my_model(i)\n",
        "    hist=model.fit(X,Y)"
      ],
      "metadata": {
        "colab": {
          "base_uri": "https://localhost:8080/"
        },
        "id": "xpFHIC08rpes",
        "outputId": "ac8f3074-8adf-4fa8-e72b-0bcc7ce86b79"
      },
      "execution_count": 95,
      "outputs": [
        {
          "output_type": "stream",
          "name": "stdout",
          "text": [
            "24/24 [==============================] - 1s 2ms/step - loss: 28.3225 - accuracy: 0.5247\n",
            "24/24 [==============================] - 1s 3ms/step - loss: 6.8368 - accuracy: 0.6419\n",
            "24/24 [==============================] - 1s 3ms/step - loss: 17.5190 - accuracy: 0.6510\n",
            "24/24 [==============================] - 1s 2ms/step - loss: 20.7214 - accuracy: 0.6497\n",
            "24/24 [==============================] - 0s 2ms/step - loss: 3.8577 - accuracy: 0.6419\n"
          ]
        }
      ]
    },
    {
      "cell_type": "code",
      "source": [
        "model1 = create_my_model('RMSprop')\n",
        "hist=model.fit(X,Y)"
      ],
      "metadata": {
        "colab": {
          "base_uri": "https://localhost:8080/"
        },
        "id": "0XP68LcNqDGO",
        "outputId": "a1f94ae0-67ef-4307-9543-15f8188ef876"
      },
      "execution_count": 109,
      "outputs": [
        {
          "output_type": "stream",
          "name": "stdout",
          "text": [
            "24/24 [==============================] - 0s 2ms/step - loss: 0.5962 - accuracy: 0.6706\n"
          ]
        }
      ]
    },
    {
      "cell_type": "code",
      "source": [
        "model2 = create_my_model('RMSprop')\n",
        "mygrid = GridSearchCV(estimator=model2, param_grid=parameter_grid, n_jobs=-1, cv=3)"
      ],
      "metadata": {
        "id": "K7Mun3TGqbCY"
      },
      "execution_count": 110,
      "outputs": []
    },
    {
      "cell_type": "code",
      "source": [
        "hist=model2.fit(X,Y,epochs=50,batch_size=20)"
      ],
      "metadata": {
        "colab": {
          "base_uri": "https://localhost:8080/"
        },
        "id": "jGwSAqwA1_E1",
        "outputId": "da010b99-0d58-43ca-f928-75de76dae770"
      },
      "execution_count": 111,
      "outputs": [
        {
          "output_type": "stream",
          "name": "stdout",
          "text": [
            "Epoch 1/50\n",
            "39/39 [==============================] - 1s 2ms/step - loss: 5.9991 - accuracy: 0.5208\n",
            "Epoch 2/50\n",
            "39/39 [==============================] - 0s 2ms/step - loss: 3.6519 - accuracy: 0.6354\n",
            "Epoch 3/50\n",
            "39/39 [==============================] - 0s 2ms/step - loss: 2.9465 - accuracy: 0.6354\n",
            "Epoch 4/50\n",
            "39/39 [==============================] - 0s 2ms/step - loss: 2.5588 - accuracy: 0.6523\n",
            "Epoch 5/50\n",
            "39/39 [==============================] - 0s 2ms/step - loss: 2.2527 - accuracy: 0.6602\n",
            "Epoch 6/50\n",
            "39/39 [==============================] - 0s 2ms/step - loss: 2.0370 - accuracy: 0.6628\n",
            "Epoch 7/50\n",
            "39/39 [==============================] - 0s 2ms/step - loss: 1.8362 - accuracy: 0.6667\n",
            "Epoch 8/50\n",
            "39/39 [==============================] - 0s 2ms/step - loss: 1.6609 - accuracy: 0.6549\n",
            "Epoch 9/50\n",
            "39/39 [==============================] - 0s 2ms/step - loss: 1.4747 - accuracy: 0.6680\n",
            "Epoch 10/50\n",
            "39/39 [==============================] - 0s 2ms/step - loss: 1.3516 - accuracy: 0.6680\n",
            "Epoch 11/50\n",
            "39/39 [==============================] - 0s 2ms/step - loss: 1.2071 - accuracy: 0.6797\n",
            "Epoch 12/50\n",
            "39/39 [==============================] - 0s 2ms/step - loss: 1.1023 - accuracy: 0.6576\n",
            "Epoch 13/50\n",
            "39/39 [==============================] - 0s 2ms/step - loss: 1.0359 - accuracy: 0.6667\n",
            "Epoch 14/50\n",
            "39/39 [==============================] - 0s 2ms/step - loss: 0.9620 - accuracy: 0.6706\n",
            "Epoch 15/50\n",
            "39/39 [==============================] - 0s 2ms/step - loss: 0.9057 - accuracy: 0.6641\n",
            "Epoch 16/50\n",
            "39/39 [==============================] - 0s 2ms/step - loss: 0.8617 - accuracy: 0.6706\n",
            "Epoch 17/50\n",
            "39/39 [==============================] - 0s 2ms/step - loss: 0.8182 - accuracy: 0.6693\n",
            "Epoch 18/50\n",
            "39/39 [==============================] - 0s 2ms/step - loss: 0.8037 - accuracy: 0.6667\n",
            "Epoch 19/50\n",
            "39/39 [==============================] - 0s 2ms/step - loss: 0.7789 - accuracy: 0.6758\n",
            "Epoch 20/50\n",
            "39/39 [==============================] - 0s 2ms/step - loss: 0.7362 - accuracy: 0.6823\n",
            "Epoch 21/50\n",
            "39/39 [==============================] - 0s 2ms/step - loss: 0.7371 - accuracy: 0.6641\n",
            "Epoch 22/50\n",
            "39/39 [==============================] - 0s 2ms/step - loss: 0.7211 - accuracy: 0.6576\n",
            "Epoch 23/50\n",
            "39/39 [==============================] - 0s 2ms/step - loss: 0.6843 - accuracy: 0.6771\n",
            "Epoch 24/50\n",
            "39/39 [==============================] - 0s 2ms/step - loss: 0.6835 - accuracy: 0.6680\n",
            "Epoch 25/50\n",
            "39/39 [==============================] - 0s 2ms/step - loss: 0.6829 - accuracy: 0.6875\n",
            "Epoch 26/50\n",
            "39/39 [==============================] - 0s 2ms/step - loss: 0.6864 - accuracy: 0.6680\n",
            "Epoch 27/50\n",
            "39/39 [==============================] - 0s 2ms/step - loss: 0.6664 - accuracy: 0.6719\n",
            "Epoch 28/50\n",
            "39/39 [==============================] - 0s 2ms/step - loss: 0.6570 - accuracy: 0.6615\n",
            "Epoch 29/50\n",
            "39/39 [==============================] - 0s 2ms/step - loss: 0.6428 - accuracy: 0.6797\n",
            "Epoch 30/50\n",
            "39/39 [==============================] - 0s 2ms/step - loss: 0.6402 - accuracy: 0.6953\n",
            "Epoch 31/50\n",
            "39/39 [==============================] - 0s 2ms/step - loss: 0.6280 - accuracy: 0.6888\n",
            "Epoch 32/50\n",
            "39/39 [==============================] - 0s 2ms/step - loss: 0.6295 - accuracy: 0.6771\n",
            "Epoch 33/50\n",
            "39/39 [==============================] - 0s 2ms/step - loss: 0.6251 - accuracy: 0.6836\n",
            "Epoch 34/50\n",
            "39/39 [==============================] - 0s 2ms/step - loss: 0.6105 - accuracy: 0.6992\n",
            "Epoch 35/50\n",
            "39/39 [==============================] - 0s 2ms/step - loss: 0.6137 - accuracy: 0.6823\n",
            "Epoch 36/50\n",
            "39/39 [==============================] - 0s 2ms/step - loss: 0.6027 - accuracy: 0.7201\n",
            "Epoch 37/50\n",
            "39/39 [==============================] - 0s 2ms/step - loss: 0.6008 - accuracy: 0.6862\n",
            "Epoch 38/50\n",
            "39/39 [==============================] - 0s 2ms/step - loss: 0.6250 - accuracy: 0.7005\n",
            "Epoch 39/50\n",
            "39/39 [==============================] - 0s 2ms/step - loss: 0.5934 - accuracy: 0.7083\n",
            "Epoch 40/50\n",
            "39/39 [==============================] - 0s 2ms/step - loss: 0.6074 - accuracy: 0.7005\n",
            "Epoch 41/50\n",
            "39/39 [==============================] - 0s 2ms/step - loss: 0.6065 - accuracy: 0.6888\n",
            "Epoch 42/50\n",
            "39/39 [==============================] - 0s 2ms/step - loss: 0.5871 - accuracy: 0.7135\n",
            "Epoch 43/50\n",
            "39/39 [==============================] - 0s 2ms/step - loss: 0.5993 - accuracy: 0.7031\n",
            "Epoch 44/50\n",
            "39/39 [==============================] - 0s 2ms/step - loss: 0.5876 - accuracy: 0.7109\n",
            "Epoch 45/50\n",
            "39/39 [==============================] - 0s 2ms/step - loss: 0.5896 - accuracy: 0.7005\n",
            "Epoch 46/50\n",
            "39/39 [==============================] - 0s 2ms/step - loss: 0.5905 - accuracy: 0.6914\n",
            "Epoch 47/50\n",
            "39/39 [==============================] - 0s 2ms/step - loss: 0.5824 - accuracy: 0.7018\n",
            "Epoch 48/50\n",
            "39/39 [==============================] - 0s 2ms/step - loss: 0.5997 - accuracy: 0.6862\n",
            "Epoch 49/50\n",
            "39/39 [==============================] - 0s 2ms/step - loss: 0.5896 - accuracy: 0.7018\n",
            "Epoch 50/50\n",
            "39/39 [==============================] - 0s 2ms/step - loss: 0.5883 - accuracy: 0.7122\n"
          ]
        }
      ]
    },
    {
      "cell_type": "code",
      "source": [
        "# summarize results\n",
        "model2.evaluate(X, Y)"
      ],
      "metadata": {
        "colab": {
          "base_uri": "https://localhost:8080/"
        },
        "id": "6NW1nVIHqdnX",
        "outputId": "cc34dbe5-3c37-4c33-ae5e-f8d6c922a8fd"
      },
      "execution_count": 113,
      "outputs": [
        {
          "output_type": "stream",
          "name": "stdout",
          "text": [
            "24/24 [==============================] - 0s 2ms/step - loss: 0.5681 - accuracy: 0.7227\n"
          ]
        },
        {
          "output_type": "execute_result",
          "data": {
            "text/plain": [
              "[0.5680894255638123, 0.72265625]"
            ]
          },
          "metadata": {},
          "execution_count": 113
        }
      ]
    },
    {
      "cell_type": "code",
      "source": [],
      "metadata": {
        "id": "vwpZ0kBIzXOG"
      },
      "execution_count": 53,
      "outputs": []
    }
  ],
  "metadata": {
    "kernelspec": {
      "display_name": "Python 3 (ipykernel)",
      "language": "python",
      "name": "python3"
    },
    "language_info": {
      "codemirror_mode": {
        "name": "ipython",
        "version": 3
      },
      "file_extension": ".py",
      "mimetype": "text/x-python",
      "name": "python",
      "nbconvert_exporter": "python",
      "pygments_lexer": "ipython3",
      "version": "3.9.12"
    },
    "colab": {
      "provenance": []
    }
  },
  "nbformat": 4,
  "nbformat_minor": 0
}